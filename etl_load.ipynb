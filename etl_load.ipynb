{
 "cells": [
  {
   "cell_type": "markdown",
   "id": "51c6f401",
   "metadata": {},
   "source": [
    "# Section 1: Load Setup"
   ]
  },
  {
   "cell_type": "code",
   "execution_count": 1,
   "id": "a917188c",
   "metadata": {},
   "outputs": [],
   "source": [
    "import os\n",
    "import pandas as pd\n",
    "import sqlite3"
   ]
  },
  {
   "cell_type": "code",
   "execution_count": 2,
   "id": "6a6805f9",
   "metadata": {},
   "outputs": [
    {
     "name": "stdout",
     "output_type": "stream",
     "text": [
      "Paths configured:\n",
      " Full CSV       → transformed_full.csv\n",
      " Incremental CSV→ transformed_incremental.csv\n",
      " Full DB        → loaded_data/full_data.db\n",
      " Inc DB         → loaded_data/incremental_data.db\n"
     ]
    }
   ],
   "source": [
    "# Define file paths\n",
    "full_csv = 'transformed_full.csv'\n",
    "inc_csv  = 'transformed_incremental.csv'\n",
    "\n",
    "full_db  = 'loaded_data/full_data.db'\n",
    "inc_db   = 'loaded_data/incremental_data.db'\n",
    "\n",
    "print(\"Paths configured:\")\n",
    "print(f\" Full CSV       → {full_csv}\")\n",
    "print(f\" Incremental CSV→ {inc_csv}\")\n",
    "print(f\" Full DB        → {full_db}\")\n",
    "print(f\" Inc DB         → {inc_db}\")"
   ]
  },
  {
   "cell_type": "markdown",
   "id": "0db3c62c",
   "metadata": {},
   "source": [
    "# Section 2: Load Full Transformed Data"
   ]
  },
  {
   "cell_type": "code",
   "execution_count": 3,
   "id": "e94969fe",
   "metadata": {},
   "outputs": [
    {
     "name": "stdout",
     "output_type": "stream",
     "text": [
      "Read 100 rows from transformed_full.csv\n"
     ]
    },
    {
     "name": "stderr",
     "output_type": "stream",
     "text": [
      "C:\\Users\\HP\\AppData\\Local\\Temp\\ipykernel_15380\\3500785125.py:2: FutureWarning: The argument 'infer_datetime_format' is deprecated and will be removed in a future version. A strict version of it is now the default, see https://pandas.pydata.org/pdeps/0004-consistent-to-datetime-parsing.html. You can safely remove this argument.\n",
      "  df_full = pd.read_csv(full_csv, parse_dates=['order_date'], infer_datetime_format=True)\n"
     ]
    },
    {
     "data": {
      "text/plain": [
       "100"
      ]
     },
     "execution_count": 3,
     "metadata": {},
     "output_type": "execute_result"
    }
   ],
   "source": [
    "# Read the transformed full CSV, parsing order_date as datetime\n",
    "df_full = pd.read_csv(full_csv, parse_dates=['order_date'], infer_datetime_format=True)\n",
    "print(f\"Read {len(df_full)} rows from {full_csv}\")\n",
    "\n",
    "# load full data into SQLite\n",
    "conn_full = sqlite3.connect(full_db)\n",
    "df_full.to_sql('full_data', conn_full, if_exists='replace', index=False)"
   ]
  },
  {
   "cell_type": "markdown",
   "id": "c734deeb",
   "metadata": {},
   "source": [
    "# Section 3: Load Incremental Transformed Data"
   ]
  },
  {
   "cell_type": "code",
   "execution_count": 4,
   "id": "ce998266",
   "metadata": {},
   "outputs": [
    {
     "name": "stdout",
     "output_type": "stream",
     "text": [
      "Read 66 rows from transformed_incremental.csv\n",
      "Incremental data loaded into loaded_data/incremental_data.db (table name: 'incremental_data')\n"
     ]
    },
    {
     "name": "stderr",
     "output_type": "stream",
     "text": [
      "C:\\Users\\HP\\AppData\\Local\\Temp\\ipykernel_15380\\4173419893.py:2: FutureWarning: The argument 'infer_datetime_format' is deprecated and will be removed in a future version. A strict version of it is now the default, see https://pandas.pydata.org/pdeps/0004-consistent-to-datetime-parsing.html. You can safely remove this argument.\n",
      "  df_inc = pd.read_csv(inc_csv, parse_dates=['order_date'], infer_datetime_format=True)\n"
     ]
    }
   ],
   "source": [
    "# Read the transformed incremental CSV\n",
    "df_inc = pd.read_csv(inc_csv, parse_dates=['order_date'], infer_datetime_format=True)\n",
    "print(f\"Read {len(df_inc)} rows from {inc_csv}\")\n",
    "\n",
    "# load incremental data into SQLite\n",
    "conn_inc = sqlite3.connect(inc_db)\n",
    "df_inc.to_sql('incremental_data', conn_inc, if_exists='replace', index=False)\n",
    "conn_inc.close()\n",
    "print(f\"Incremental data loaded into {inc_db} (table name: 'incremental_data')\")"
   ]
  },
  {
   "cell_type": "markdown",
   "id": "c47ce675",
   "metadata": {},
   "source": [
    "# Section 4: Verification"
   ]
  },
  {
   "cell_type": "code",
   "execution_count": 5,
   "id": "a39e0f05",
   "metadata": {},
   "outputs": [
    {
     "name": "stdout",
     "output_type": "stream",
     "text": [
      "\n",
      "Verifying SQLite tables:\n",
      " Full row count:    cnt\n",
      "0  100\n"
     ]
    },
    {
     "data": {
      "application/vnd.microsoft.datawrangler.viewer.v0+json": {
       "columns": [
        {
         "name": "index",
         "rawType": "int64",
         "type": "integer"
        },
        {
         "name": "order_id",
         "rawType": "int64",
         "type": "integer"
        },
        {
         "name": "product",
         "rawType": "object",
         "type": "string"
        },
        {
         "name": "order_date",
         "rawType": "object",
         "type": "string"
        },
        {
         "name": "quantity",
         "rawType": "int64",
         "type": "integer"
        },
        {
         "name": "total_price",
         "rawType": "float64",
         "type": "float"
        },
        {
         "name": "order_year",
         "rawType": "int64",
         "type": "integer"
        },
        {
         "name": "order_month",
         "rawType": "int64",
         "type": "integer"
        },
        {
         "name": "order_day",
         "rawType": "int64",
         "type": "integer"
        },
        {
         "name": "avg_price_per_item",
         "rawType": "float64",
         "type": "float"
        },
        {
         "name": "price_category",
         "rawType": "object",
         "type": "string"
        }
       ],
       "ref": "a7fb7235-5bfb-4e07-9e1e-ec1c12f5904d",
       "rows": [
        [
         "0",
         "1",
         "Tablet",
         "2025-06-26 11:18:00",
         "1",
         "583.28",
         "2025",
         "6",
         "26",
         "583.28",
         "Medium"
        ],
        [
         "1",
         "2",
         "Camera",
         "2025-06-13 11:27:00",
         "4",
         "2299.2",
         "2025",
         "6",
         "13",
         "574.8",
         "Medium"
        ],
        [
         "2",
         "3",
         "Headphones",
         "2025-06-23 22:30:00",
         "3",
         "3682.14",
         "2025",
         "6",
         "23",
         "1227.38",
         "High"
        ],
        [
         "3",
         "4",
         "Headphones",
         "2025-06-10 14:30:00",
         "1",
         "687.12",
         "2025",
         "6",
         "10",
         "687.12",
         "Medium"
        ],
        [
         "4",
         "5",
         "Smartphone",
         "2025-06-26 02:40:00",
         "1",
         "990.39",
         "2025",
         "6",
         "26",
         "990.39",
         "Medium"
        ]
       ],
       "shape": {
        "columns": 10,
        "rows": 5
       }
      },
      "text/html": [
       "<div>\n",
       "<style scoped>\n",
       "    .dataframe tbody tr th:only-of-type {\n",
       "        vertical-align: middle;\n",
       "    }\n",
       "\n",
       "    .dataframe tbody tr th {\n",
       "        vertical-align: top;\n",
       "    }\n",
       "\n",
       "    .dataframe thead th {\n",
       "        text-align: right;\n",
       "    }\n",
       "</style>\n",
       "<table border=\"1\" class=\"dataframe\">\n",
       "  <thead>\n",
       "    <tr style=\"text-align: right;\">\n",
       "      <th></th>\n",
       "      <th>order_id</th>\n",
       "      <th>product</th>\n",
       "      <th>order_date</th>\n",
       "      <th>quantity</th>\n",
       "      <th>total_price</th>\n",
       "      <th>order_year</th>\n",
       "      <th>order_month</th>\n",
       "      <th>order_day</th>\n",
       "      <th>avg_price_per_item</th>\n",
       "      <th>price_category</th>\n",
       "    </tr>\n",
       "  </thead>\n",
       "  <tbody>\n",
       "    <tr>\n",
       "      <th>0</th>\n",
       "      <td>1</td>\n",
       "      <td>Tablet</td>\n",
       "      <td>2025-06-26 11:18:00</td>\n",
       "      <td>1</td>\n",
       "      <td>583.28</td>\n",
       "      <td>2025</td>\n",
       "      <td>6</td>\n",
       "      <td>26</td>\n",
       "      <td>583.28</td>\n",
       "      <td>Medium</td>\n",
       "    </tr>\n",
       "    <tr>\n",
       "      <th>1</th>\n",
       "      <td>2</td>\n",
       "      <td>Camera</td>\n",
       "      <td>2025-06-13 11:27:00</td>\n",
       "      <td>4</td>\n",
       "      <td>2299.20</td>\n",
       "      <td>2025</td>\n",
       "      <td>6</td>\n",
       "      <td>13</td>\n",
       "      <td>574.80</td>\n",
       "      <td>Medium</td>\n",
       "    </tr>\n",
       "    <tr>\n",
       "      <th>2</th>\n",
       "      <td>3</td>\n",
       "      <td>Headphones</td>\n",
       "      <td>2025-06-23 22:30:00</td>\n",
       "      <td>3</td>\n",
       "      <td>3682.14</td>\n",
       "      <td>2025</td>\n",
       "      <td>6</td>\n",
       "      <td>23</td>\n",
       "      <td>1227.38</td>\n",
       "      <td>High</td>\n",
       "    </tr>\n",
       "    <tr>\n",
       "      <th>3</th>\n",
       "      <td>4</td>\n",
       "      <td>Headphones</td>\n",
       "      <td>2025-06-10 14:30:00</td>\n",
       "      <td>1</td>\n",
       "      <td>687.12</td>\n",
       "      <td>2025</td>\n",
       "      <td>6</td>\n",
       "      <td>10</td>\n",
       "      <td>687.12</td>\n",
       "      <td>Medium</td>\n",
       "    </tr>\n",
       "    <tr>\n",
       "      <th>4</th>\n",
       "      <td>5</td>\n",
       "      <td>Smartphone</td>\n",
       "      <td>2025-06-26 02:40:00</td>\n",
       "      <td>1</td>\n",
       "      <td>990.39</td>\n",
       "      <td>2025</td>\n",
       "      <td>6</td>\n",
       "      <td>26</td>\n",
       "      <td>990.39</td>\n",
       "      <td>Medium</td>\n",
       "    </tr>\n",
       "  </tbody>\n",
       "</table>\n",
       "</div>"
      ],
      "text/plain": [
       "   order_id     product           order_date  quantity  total_price  \\\n",
       "0         1      Tablet  2025-06-26 11:18:00         1       583.28   \n",
       "1         2      Camera  2025-06-13 11:27:00         4      2299.20   \n",
       "2         3  Headphones  2025-06-23 22:30:00         3      3682.14   \n",
       "3         4  Headphones  2025-06-10 14:30:00         1       687.12   \n",
       "4         5  Smartphone  2025-06-26 02:40:00         1       990.39   \n",
       "\n",
       "   order_year  order_month  order_day  avg_price_per_item price_category  \n",
       "0        2025            6         26              583.28         Medium  \n",
       "1        2025            6         13              574.80         Medium  \n",
       "2        2025            6         23             1227.38           High  \n",
       "3        2025            6         10              687.12         Medium  \n",
       "4        2025            6         26              990.39         Medium  "
      ]
     },
     "metadata": {},
     "output_type": "display_data"
    },
    {
     "name": "stdout",
     "output_type": "stream",
     "text": [
      " Incremental row count:    cnt\n",
      "0   66\n"
     ]
    },
    {
     "data": {
      "application/vnd.microsoft.datawrangler.viewer.v0+json": {
       "columns": [
        {
         "name": "index",
         "rawType": "int64",
         "type": "integer"
        },
        {
         "name": "order_id",
         "rawType": "int64",
         "type": "integer"
        },
        {
         "name": "product",
         "rawType": "object",
         "type": "string"
        },
        {
         "name": "order_date",
         "rawType": "object",
         "type": "string"
        },
        {
         "name": "quantity",
         "rawType": "int64",
         "type": "integer"
        },
        {
         "name": "total_price",
         "rawType": "float64",
         "type": "float"
        },
        {
         "name": "order_year",
         "rawType": "int64",
         "type": "integer"
        },
        {
         "name": "order_month",
         "rawType": "int64",
         "type": "integer"
        },
        {
         "name": "order_day",
         "rawType": "int64",
         "type": "integer"
        },
        {
         "name": "avg_price_per_item",
         "rawType": "float64",
         "type": "float"
        },
        {
         "name": "price_category",
         "rawType": "object",
         "type": "string"
        }
       ],
       "ref": "f6723779-7a29-4431-aef5-ee83bc560479",
       "rows": [
        [
         "0",
         "1",
         "Tablet",
         "2025-06-26 11:18:00",
         "1",
         "583.28",
         "2025",
         "6",
         "26",
         "583.28",
         "Medium"
        ],
        [
         "1",
         "2",
         "Camera",
         "2025-06-13 11:27:00",
         "4",
         "2299.2",
         "2025",
         "6",
         "13",
         "574.8",
         "Medium"
        ],
        [
         "2",
         "3",
         "Headphones",
         "2025-06-23 22:30:00",
         "3",
         "3682.14",
         "2025",
         "6",
         "23",
         "1227.38",
         "High"
        ],
        [
         "3",
         "5",
         "Smartphone",
         "2025-06-26 02:40:00",
         "1",
         "990.39",
         "2025",
         "6",
         "26",
         "990.39",
         "Medium"
        ],
        [
         "4",
         "6",
         "Camera",
         "2025-07-05 00:43:00",
         "4",
         "3613.93",
         "2025",
         "7",
         "5",
         "903.4825",
         "Medium"
        ]
       ],
       "shape": {
        "columns": 10,
        "rows": 5
       }
      },
      "text/html": [
       "<div>\n",
       "<style scoped>\n",
       "    .dataframe tbody tr th:only-of-type {\n",
       "        vertical-align: middle;\n",
       "    }\n",
       "\n",
       "    .dataframe tbody tr th {\n",
       "        vertical-align: top;\n",
       "    }\n",
       "\n",
       "    .dataframe thead th {\n",
       "        text-align: right;\n",
       "    }\n",
       "</style>\n",
       "<table border=\"1\" class=\"dataframe\">\n",
       "  <thead>\n",
       "    <tr style=\"text-align: right;\">\n",
       "      <th></th>\n",
       "      <th>order_id</th>\n",
       "      <th>product</th>\n",
       "      <th>order_date</th>\n",
       "      <th>quantity</th>\n",
       "      <th>total_price</th>\n",
       "      <th>order_year</th>\n",
       "      <th>order_month</th>\n",
       "      <th>order_day</th>\n",
       "      <th>avg_price_per_item</th>\n",
       "      <th>price_category</th>\n",
       "    </tr>\n",
       "  </thead>\n",
       "  <tbody>\n",
       "    <tr>\n",
       "      <th>0</th>\n",
       "      <td>1</td>\n",
       "      <td>Tablet</td>\n",
       "      <td>2025-06-26 11:18:00</td>\n",
       "      <td>1</td>\n",
       "      <td>583.28</td>\n",
       "      <td>2025</td>\n",
       "      <td>6</td>\n",
       "      <td>26</td>\n",
       "      <td>583.2800</td>\n",
       "      <td>Medium</td>\n",
       "    </tr>\n",
       "    <tr>\n",
       "      <th>1</th>\n",
       "      <td>2</td>\n",
       "      <td>Camera</td>\n",
       "      <td>2025-06-13 11:27:00</td>\n",
       "      <td>4</td>\n",
       "      <td>2299.20</td>\n",
       "      <td>2025</td>\n",
       "      <td>6</td>\n",
       "      <td>13</td>\n",
       "      <td>574.8000</td>\n",
       "      <td>Medium</td>\n",
       "    </tr>\n",
       "    <tr>\n",
       "      <th>2</th>\n",
       "      <td>3</td>\n",
       "      <td>Headphones</td>\n",
       "      <td>2025-06-23 22:30:00</td>\n",
       "      <td>3</td>\n",
       "      <td>3682.14</td>\n",
       "      <td>2025</td>\n",
       "      <td>6</td>\n",
       "      <td>23</td>\n",
       "      <td>1227.3800</td>\n",
       "      <td>High</td>\n",
       "    </tr>\n",
       "    <tr>\n",
       "      <th>3</th>\n",
       "      <td>5</td>\n",
       "      <td>Smartphone</td>\n",
       "      <td>2025-06-26 02:40:00</td>\n",
       "      <td>1</td>\n",
       "      <td>990.39</td>\n",
       "      <td>2025</td>\n",
       "      <td>6</td>\n",
       "      <td>26</td>\n",
       "      <td>990.3900</td>\n",
       "      <td>Medium</td>\n",
       "    </tr>\n",
       "    <tr>\n",
       "      <th>4</th>\n",
       "      <td>6</td>\n",
       "      <td>Camera</td>\n",
       "      <td>2025-07-05 00:43:00</td>\n",
       "      <td>4</td>\n",
       "      <td>3613.93</td>\n",
       "      <td>2025</td>\n",
       "      <td>7</td>\n",
       "      <td>5</td>\n",
       "      <td>903.4825</td>\n",
       "      <td>Medium</td>\n",
       "    </tr>\n",
       "  </tbody>\n",
       "</table>\n",
       "</div>"
      ],
      "text/plain": [
       "   order_id     product           order_date  quantity  total_price  \\\n",
       "0         1      Tablet  2025-06-26 11:18:00         1       583.28   \n",
       "1         2      Camera  2025-06-13 11:27:00         4      2299.20   \n",
       "2         3  Headphones  2025-06-23 22:30:00         3      3682.14   \n",
       "3         5  Smartphone  2025-06-26 02:40:00         1       990.39   \n",
       "4         6      Camera  2025-07-05 00:43:00         4      3613.93   \n",
       "\n",
       "   order_year  order_month  order_day  avg_price_per_item price_category  \n",
       "0        2025            6         26            583.2800         Medium  \n",
       "1        2025            6         13            574.8000         Medium  \n",
       "2        2025            6         23           1227.3800           High  \n",
       "3        2025            6         26            990.3900         Medium  \n",
       "4        2025            7          5            903.4825         Medium  "
      ]
     },
     "metadata": {},
     "output_type": "display_data"
    }
   ],
   "source": [
    "# Verify SQLite tables\n",
    "print(\"\\nVerifying SQLite tables:\")\n",
    "conn = sqlite3.connect(full_db)\n",
    "print(\" Full row count:\", pd.read_sql(\"SELECT COUNT(*) AS cnt FROM full_data;\", conn))\n",
    "display(pd.read_sql(\"SELECT * FROM full_data LIMIT 5;\", conn))\n",
    "conn.close()\n",
    "\n",
    "conn = sqlite3.connect(inc_db)\n",
    "print(\" Incremental row count:\", pd.read_sql(\"SELECT COUNT(*) AS cnt FROM incremental_data;\", conn))\n",
    "display(pd.read_sql(\"SELECT * FROM incremental_data LIMIT 5;\", conn))\n",
    "conn.close()"
   ]
  }
 ],
 "metadata": {
  "kernelspec": {
   "display_name": "Python 3",
   "language": "python",
   "name": "python3"
  },
  "language_info": {
   "codemirror_mode": {
    "name": "ipython",
    "version": 3
   },
   "file_extension": ".py",
   "mimetype": "text/x-python",
   "name": "python",
   "nbconvert_exporter": "python",
   "pygments_lexer": "ipython3",
   "version": "3.13.4"
  }
 },
 "nbformat": 4,
 "nbformat_minor": 5
}
